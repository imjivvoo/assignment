{
  "nbformat": 4,
  "nbformat_minor": 0,
  "metadata": {
    "colab": {
      "provenance": [],
      "authorship_tag": "ABX9TyMxboMqibzDT/ucwMk8aT7x"
    },
    "kernelspec": {
      "name": "python3",
      "display_name": "Python 3"
    },
    "language_info": {
      "name": "python"
    }
  },
  "cells": [
    {
      "cell_type": "markdown",
      "source": [
        "#1. LeetCode 225. Implement Stack using Queues"
      ],
      "metadata": {
        "id": "MytfjhxAZVc1"
      }
    },
    {
      "cell_type": "code",
      "execution_count": 11,
      "metadata": {
        "id": "HV-kn-UAZO_c"
      },
      "outputs": [],
      "source": [
        "class MyStack:\n",
        "\n",
        "    def __init__(self):\n",
        "        self.q1 = deque()\n",
        "        self.q2 = deque()\n",
        "\n",
        "    def push(self, x: int) -> None:\n",
        "        self.q2.append(x)\n",
        "        while self.q1:\n",
        "            self.q2.append(self.q1.popleft())\n",
        "        self.q1, self.q2 = self.q2, self.q1\n",
        "\n",
        "    def pop(self) -> int:\n",
        "        return self.q1.popleft()\n",
        "\n",
        "    def top(self) -> int:\n",
        "        return self.q1[0]\n",
        "\n",
        "    def empty(self) -> bool:\n",
        "        return not self.q1"
      ]
    },
    {
      "cell_type": "markdown",
      "source": [
        "#2. LeetCode 232. Implement Queue using Stacks"
      ],
      "metadata": {
        "id": "7P2ff8mjZU8r"
      }
    },
    {
      "cell_type": "code",
      "source": [
        "class MyQueue:\n",
        "\n",
        "    def __init__(self):\n",
        "        self.stack1 = []\n",
        "        self.stack2 = []\n",
        "\n",
        "    def push(self, x: int) -> None:\n",
        "        self.stack1.append(x)\n",
        "\n",
        "    def pop(self) -> int:\n",
        "        if not self.stack2:\n",
        "            while self.stack1:\n",
        "                self.stack2.append(self.stack1.pop())\n",
        "        return self.stack2.pop()\n",
        "\n",
        "    def peek(self) -> int:\n",
        "        if not self.stack2:\n",
        "            while self.stack1:\n",
        "                self.stack2.append(self.stack1.pop())\n",
        "        return self.stack2[-1]\n",
        "\n",
        "    def empty(self) -> bool:\n",
        "        return not self.stack1 and not self.stack2"
      ],
      "metadata": {
        "id": "C0PXGvGnZUPj"
      },
      "execution_count": 12,
      "outputs": []
    },
    {
      "cell_type": "markdown",
      "source": [
        "#3.큐 교재 연습문제"
      ],
      "metadata": {
        "id": "74_zlsSfAeNW"
      }
    },
    {
      "cell_type": "markdown",
      "source": [
        "##1번 문제"
      ],
      "metadata": {
        "id": "xUl9pvqv_6A8"
      }
    },
    {
      "cell_type": "code",
      "source": [
        "class ListQueue:\n",
        "  def __init__(self):\n",
        "    self.__queue = []\n",
        "\n",
        "  def enqueue(self, x):\n",
        "    self.__queue.insert(0, x)\n",
        "\n",
        "  def dequeue(self):\n",
        "    return self.__queue.pop(-1)\n",
        "\n",
        "  def front(self):\n",
        "    return self.__queue[-1]\n",
        "\n",
        "  def isEmpty(self) -> bool:\n",
        "    return len(self.__queue) == 0\n",
        "\n",
        "  def dequeueAll(self):\n",
        "    self.__queue.clear()"
      ],
      "metadata": {
        "id": "NSN74axEAk9w"
      },
      "execution_count": 13,
      "outputs": []
    },
    {
      "cell_type": "markdown",
      "source": [
        "##2번 문제"
      ],
      "metadata": {
        "id": "GgyKvTNGPZqk"
      }
    },
    {
      "cell_type": "code",
      "source": [
        "def check(input_str):\n",
        "    if '$' not in input_str:\n",
        "        return False\n",
        "\n",
        "    left, right = input_str.split('$', 1)\n",
        "\n",
        "    queue = ListQueue()\n",
        "    for ch in left:\n",
        "        queue.enqueue(ch)\n",
        "\n",
        "    for ch in right:\n",
        "        if queue.isEmpty():\n",
        "            return False\n",
        "        if ch != queue.dequeue():\n",
        "            return False\n",
        "\n",
        "    return queue.isEmpty()\n",
        "\n",
        "print(check(\"hello$hello\"))"
      ],
      "metadata": {
        "colab": {
          "base_uri": "https://localhost:8080/"
        },
        "id": "RttcH8SpDM28",
        "outputId": "c72a8728-53ef-40b5-a792-cb32ca4a511e"
      },
      "execution_count": 14,
      "outputs": [
        {
          "output_type": "stream",
          "name": "stdout",
          "text": [
            "True\n"
          ]
        }
      ]
    },
    {
      "cell_type": "markdown",
      "source": [
        "##3번 문제"
      ],
      "metadata": {
        "id": "Q0S_boJkHuzI"
      }
    },
    {
      "cell_type": "code",
      "source": [
        "def copyLinkedQueue(a):\n",
        "    b = LinkedQueue()\n",
        "    current = a.front\n",
        "    while current is not None:\n",
        "        b.enqueue(current.item)\n",
        "        current = current.link\n",
        "    return b"
      ],
      "metadata": {
        "id": "mJzvvf4xHuBu"
      },
      "execution_count": 15,
      "outputs": []
    },
    {
      "cell_type": "markdown",
      "source": [
        "##4번 문제"
      ],
      "metadata": {
        "id": "QcV744bHPTaE"
      }
    },
    {
      "cell_type": "code",
      "source": [
        "\n",
        "class Stack4:\n",
        "    def __init__(self):\n",
        "        self.q1 = deque()\n",
        "        self.q2 = deque()\n",
        "\n",
        "    def push(self, x: int) -> None:\n",
        "        self.q2.append(x)\n",
        "        while self.q1:\n",
        "            self.q2.append(self.q1.popleft())\n",
        "        self.q1, self.q2 = self.q2, self.q1\n",
        "\n",
        "    def pop(self) -> int:\n",
        "        return self.q1.popleft()"
      ],
      "metadata": {
        "id": "UUHYhCKvIqUe"
      },
      "execution_count": 16,
      "outputs": []
    },
    {
      "cell_type": "markdown",
      "source": [
        "##5번 문제"
      ],
      "metadata": {
        "id": "Mp4lYtPUPVzS"
      }
    },
    {
      "cell_type": "code",
      "source": [
        "class Queue5:\n",
        "\n",
        "    def __init__(self):\n",
        "        self.stack1 = []\n",
        "        self.stack2 = []\n",
        "\n",
        "    def enqueue(self, x: int) -> None:\n",
        "        self.stack1.append(x)\n",
        "\n",
        "    def dequeue(self) -> int:\n",
        "        if not self.stack2:\n",
        "            while self.stack1:\n",
        "                self.stack2.append(self.stack1.pop())\n",
        "        return self.stack2.pop()"
      ],
      "metadata": {
        "id": "7ybMcbVs98KH"
      },
      "execution_count": 17,
      "outputs": []
    },
    {
      "cell_type": "markdown",
      "source": [
        "##6번 문제\n",
        "enqueue()는 큐의 rear에 원소를 추가하는 연산이며, 양방향 원형 연결 리스트에서는 tail 노드 뒤에 새로운 노드를 연결하고 tail 포인터를 갱신함으로써 O(1)의 시간에 수행할 수 있다.\n",
        "dequeue()는 front 노드인 tail.next를 삭제하는 연산으로, 역시 포인터만 변경하면 되므로 O(1)에 수행된다."
      ],
      "metadata": {
        "id": "pQLk3SqdBEuN"
      }
    },
    {
      "cell_type": "markdown",
      "source": [
        "##7번 문제\n",
        "enqueue()는 큐의 rear에 원소를 추가하는 연산으로, 단순 연결 리스트에서는 리스트의 끝까지 순회하여 삽입해야 하므로 O(n)의 시간이 걸린다.\n",
        "반면, dequeue()는 큐의 front에서 원소를 삭제하는 연산이며, 더미 헤드(dummy head) 를 사용하면 앞 노드에 바로 접근할 수 있으므로 O(1)에 수행된다."
      ],
      "metadata": {
        "id": "c-kiYxf7BI2v"
      }
    },
    {
      "cell_type": "markdown",
      "source": [
        "##8번 문제"
      ],
      "metadata": {
        "id": "TYwreUqbBOZV"
      }
    },
    {
      "cell_type": "code",
      "source": [
        "class Deque:\n",
        "    def __init__(self):\n",
        "        self.head = None  # front\n",
        "        self.size = 0\n",
        "\n",
        "    def enqueueFront(self, item):\n",
        "        newNode = Node(item)\n",
        "        if self.isEmpty():\n",
        "            newNode.next = newNode.prev = newNode\n",
        "            self.head = newNode\n",
        "        else:\n",
        "            tail = self.head.prev\n",
        "            newNode.next = self.head\n",
        "            newNode.prev = tail\n",
        "            tail.next = self.head.prev = newNode\n",
        "            self.head = newNode\n",
        "        self.size += 1\n",
        "\n",
        "    def enqueueRear(self, item):\n",
        "        newNode = Node(item)\n",
        "        if self.isEmpty():\n",
        "            newNode.next = newNode.prev = newNode\n",
        "            self.head = newNode\n",
        "        else:\n",
        "            tail = self.head.prev\n",
        "            newNode.next = self.head\n",
        "            newNode.prev = tail\n",
        "            tail.next = self.head.prev = newNode\n",
        "        self.size += 1\n",
        "\n",
        "    def dequeueFront(self):\n",
        "        if self.isEmpty():\n",
        "            return None\n",
        "        data = self.head.item\n",
        "        if self.size == 1:\n",
        "            self.head = None\n",
        "        else:\n",
        "            tail = self.head.prev\n",
        "            self.head = self.head.next\n",
        "            self.head.prev = tail\n",
        "            tail.next = self.head\n",
        "        self.size -= 1\n",
        "        return data\n",
        "\n",
        "    def dequeueRear(self):\n",
        "        if self.isEmpty():\n",
        "            return None\n",
        "        tail = self.head.prev\n",
        "        data = tail.item\n",
        "        if self.size == 1:\n",
        "            self.head = None\n",
        "        else:\n",
        "            new_tail = tail.prev\n",
        "            new_tail.next = self.head\n",
        "            self.head.prev = new_tail\n",
        "        self.size -= 1\n",
        "        return data\n",
        "\n",
        "    def isEmpty(self):\n",
        "        return self.size == 0\n",
        "\n",
        "    def front(self):\n",
        "        if self.isEmpty():\n",
        "            return None\n",
        "        return self.head.item\n",
        "\n",
        "    def dequeueAll(self):\n",
        "        self.head = None\n",
        "        self.size = 0\n",
        "\n",
        "    def printQueue(self):\n",
        "        if self.isEmpty():\n",
        "            print(\"Queue is empty\")\n",
        "            return\n",
        "        print(\"Queue from front:\", end=' ')\n",
        "        curr = self.head\n",
        "        for _ in range(self.size):\n",
        "            print(curr.item, end=' ')\n",
        "            curr = curr.next\n",
        "        print()"
      ],
      "metadata": {
        "id": "-SgC1JOJ98aa"
      },
      "execution_count": 18,
      "outputs": []
    }
  ]
}