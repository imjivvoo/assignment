{
  "nbformat": 4,
  "nbformat_minor": 0,
  "metadata": {
    "colab": {
      "provenance": [],
      "mount_file_id": "1T8Tp22MkbZfFZVzZ2IeM9pBSb10zG6Gz",
      "authorship_tag": "ABX9TyPkyRGJEhj8t34czX7DxF30",
      "include_colab_link": true
    },
    "kernelspec": {
      "name": "python3",
      "display_name": "Python 3"
    },
    "language_info": {
      "name": "python"
    }
  },
  "cells": [
    {
      "cell_type": "markdown",
      "metadata": {
        "id": "view-in-github",
        "colab_type": "text"
      },
      "source": [
        "<a href=\"https://colab.research.google.com/github/imjivvoo/assignment/blob/master/Assignment5.ipynb\" target=\"_parent\"><img src=\"https://colab.research.google.com/assets/colab-badge.svg\" alt=\"Open In Colab\"/></a>"
      ]
    },
    {
      "cell_type": "code",
      "execution_count": null,
      "metadata": {
        "colab": {
          "base_uri": "https://localhost:8080/"
        },
        "id": "olh7OHbDF-zV",
        "outputId": "9f4697e3-1d62-492b-e26a-c0f62c081a51"
      },
      "outputs": [
        {
          "output_type": "stream",
          "name": "stdout",
          "text": [
            "Drive already mounted at /content/drive; to attempt to forcibly remount, call drive.mount(\"/content/drive\", force_remount=True).\n"
          ]
        }
      ],
      "source": [
        "from google.colab import drive\n",
        "drive.mount('/content/drive')"
      ]
    },
    {
      "cell_type": "markdown",
      "source": [
        "#3번문제"
      ],
      "metadata": {
        "id": "FjagU23zSCOI"
      }
    },
    {
      "cell_type": "code",
      "source": [
        "import pandas as pd\n",
        "class Heap:\n",
        "\tdef __init__(self, *args):\n",
        "\t\tif len(args) != 0:\n",
        "\t\t\tself.__A = args[0] # 파라미터로 온 리스트\n",
        "\t\telse:\n",
        "\t\t\tself.__A = []\n",
        "\n",
        "\t# [알고리즘 8-2] 구현: 힙에 원소 삽입하기(재귀 알고리즘 버전)\n",
        "\tdef insert(self, x):\n",
        "\t\tself.__A.append(x)\n",
        "\t\tself.__percolateUp(len(self.__A)-1)\n",
        "\n",
        "\t# 스며오르기\n",
        "\tdef __percolateUp(self, i:int):\n",
        "\t\tparent = (i - 1) // 2\n",
        "\t\tif i > 0 and self.__A[i] > self.__A[parent]:\n",
        "\t\t\tself.__A[i], self.__A[parent] = self.__A[parent], self.__A[i]\n",
        "\t\t\tself.__percolateUp(parent)\n",
        "\n",
        "\t# [알고리즘 8-2] 구현: 힙에서 원소 삭제하기\n",
        "\tdef deleteMax(self):\n",
        "\t\t# heap is in self.__A[0...len(self.__A)-1]\n",
        "\t\tif (not self.isEmpty()):\n",
        "\t\t\tmax = self.__A[0]\n",
        "\t\t\tself.__A[0] = self.__A.pop() # *.pop(): 리스트의 끝원소 삭제 후 원소 리턴\n",
        "\t\t\tself.__percolateDown(0)\n",
        "\t\t\treturn max\n",
        "\t\telse:\n",
        "\t\t\treturn None\n",
        "\n",
        "\t# 스며내리기\n",
        "\tdef __percolateDown(self, i:int):\n",
        "\t\t# Percolate down w/ self.__A[i] as the root\n",
        "\t\tchild = 2 * i + 1  # left child\n",
        "\t\tright = 2 * i + 2  # right child\n",
        "\t\tif (child <= len(self.__A)-1):\n",
        "\t\t\tif (right <= len(self.__A)-1 and self.__A[child] < self.__A[right]):\n",
        "\t\t\t\tchild = right  # index of larger child\n",
        "\t\t\tif self.__A[i] < self.__A[child]:\n",
        "\t\t\t\tself.__A[i], self.__A[child] = self.__A[child], self.__A[i]\n",
        "\t\t\t\tself.__percolateDown(child)\n",
        "\n",
        "\tdef max(self):\n",
        "\t\treturn self.__A[0]\n",
        "\n",
        "\t# 힙 만들기\n",
        "\tdef buildHeap(self):\n",
        "\t\tfor i in range((len(self.__A) - 2) // 2, -1, -1):\n",
        "\t\t\tself.__percolateDown(i)\n",
        "\n",
        "\t# 힙이 비었는지 확인하기\n",
        "\tdef isEmpty(self) -> bool:\n",
        "\t\treturn len(self.__A) == 0\n",
        "\n",
        "\tdef clear(self):\n",
        "\t\tself.__A = []\n",
        "\n",
        "\tdef size(self) -> int:\n",
        "\t\treturn len(self.__A)\n",
        "\n",
        "df = pd.read_csv('/content/drive/MyDrive/2025-1/자료구조/birthday.csv')\n",
        "\n",
        "# 생년월일 정수형으로 변환\n",
        "BIRTH_COL = '생년월일8자리(예.20040101)'\n",
        "df = df.dropna(subset=[BIRTH_COL])\n",
        "df[BIRTH_COL] = df[BIRTH_COL].astype(int)\n",
        "\n",
        "# 힙 생성\n",
        "heap = Heap()\n",
        "\n",
        "# 생일 기준 힙 삽입\n",
        "for idx, row in df.iterrows():\n",
        "    birth = row[BIRTH_COL]\n",
        "    heap.insert((birth, idx, row.to_dict()))\n",
        "\n",
        "# 생일 느린 순으로 10명 출력\n",
        "for i in range(10):\n",
        "    if not heap.isEmpty():\n",
        "        birth, _, student = heap.deleteMax()\n",
        "        print(f\"{i+1}. {student['이름']} - 생일: {birth} - 학번: {student['학번']}\")"
      ],
      "metadata": {
        "id": "zh6i92M7GAKg",
        "colab": {
          "base_uri": "https://localhost:8080/"
        },
        "outputId": "cbeb196d-3a1b-4d98-883d-52f4086bb038"
      },
      "execution_count": null,
      "outputs": [
        {
          "output_type": "stream",
          "name": "stdout",
          "text": [
            "1. 홍서연 - 생일: 20241282 - 학번: ******82\n",
            "2. 신수민 - 생일: 20051230 - 학번: ******22\n",
            "3. 이서영 - 생일: 20051225 - 학번: ******42\n",
            "4. 강민주 - 생일: 20051214 - 학번: ******69\n",
            "5. 김민경 - 생일: 20051202 - 학번: ******78\n",
            "6. 이서영 - 생일: 20051112 - 학번: ******41\n",
            "7. 배시은 - 생일: 20051102 - 학번: ******17\n",
            "8. 김여원 - 생일: 20051031 - 학번: ******87\n",
            "9. 이서진 - 생일: 20051028 - 학번: ******44\n",
            "10. 서홍빈 - 생일: 20051024 - 학번: ******64\n"
          ]
        }
      ]
    },
    {
      "cell_type": "markdown",
      "source": [
        "#4번문제"
      ],
      "metadata": {
        "id": "wFU_s6NMSF35"
      }
    },
    {
      "cell_type": "code",
      "source": [
        "class BidirectNode:\n",
        "    def __init__(self, item, prev, next):\n",
        "        self.item = item\n",
        "        self.prev = prev\n",
        "        self.next = next\n",
        "\n",
        "class CircularDoublyLinkedList:\n",
        "\tdef __init__(self):\n",
        "\t\tself.__head = BidirectNode(\"dummy\", None, None)\n",
        "\t\tself.__head.prev = self.__head\n",
        "\t\tself.__head.next = self.__head\n",
        "\t\tself.__numItems = 0\n",
        "\n",
        "\tdef insert(self, i:int, newItem) -> None:\n",
        "\t\tif (i >= 0 and i <= self.__numItems):\n",
        "\t\t\tprev = self.getNode(i - 1)\n",
        "\t\t\tnewNode = BidirectNode(newItem, prev, prev.next)\n",
        "\t\t\tnewNode.next.prev = newNode\n",
        "\t\t\tprev.next = newNode\n",
        "\t\t\tself.__numItems += 1\n",
        "\t\telse:\n",
        "\t\t\tprint(\"index\", i, \": out of bound in insert()\") # 필요 시 에러 처리\n",
        "\n",
        "\tdef append(self, newItem) -> None:\n",
        "\t\tprev = self.__head.prev\n",
        "\t\tnewNode = BidirectNode(newItem, prev, self.__head)\n",
        "\t\tprev.next = newNode\n",
        "\t\tself.__head.prev = newNode\n",
        "\t\tself.__numItems += 1\n",
        "\n",
        "\tdef pop(self, *args):\n",
        "\t\t# 가변 파라미터. 인자가 없거나 -1이면 마지막 원소로 처리하기 위함. 파이썬 리스트 규칙 만족\n",
        "\t\tif self.isEmpty():\n",
        "\t\t\treturn None\n",
        "\t\t# 인덱스 i 결정\n",
        "\t\tif len(args) != 0: # pop(k)과 같이 인자가 있으면 i = k 할당\n",
        "\t\t\ti = args[0]\n",
        "\t\tif len(args) == 0 or i == -1:# pop()에 인자가 없거나 pop(-1)이면 i에 맨 끝 인덱스 할당\n",
        "\t\t\ti = self.__numItems - 1\n",
        "\t\t# i번 원소 삭제\n",
        "\t\tif (i >= 0 and i <= self.__numItems - 1):\n",
        "\t\t\tcurr = self.getNode(i)\n",
        "\t\t\tretItem = curr.item\n",
        "\t\t\tcurr.prev.next = curr.next\n",
        "\t\t\tcurr.next.prev = curr.prev\n",
        "\t\t\tself.__numItems -= 1\n",
        "\t\t\treturn retItem\n",
        "\t\telse:\n",
        "\t\t\treturn None\n",
        "\n",
        "\tdef remove(self, x):\n",
        "\t\tcurr = self.__findNode(x)\n",
        "\t\tif curr != None:\n",
        "\t\t\tcurr.prev.next = curr.next\n",
        "\t\t\tcurr.next.prev = curr.prev\n",
        "\t\t\tself.__numItems -= 1\n",
        "\t\t\treturn x\n",
        "\t\telse:\n",
        "\t\t\treturn None\n",
        "\n",
        "\tdef get(self, *args):\n",
        "\t\t# 가변 파라미터. 인자가 없거나 -1이면 마지막 원소로 처리하기 위함. 파이썬 리스트 규칙 만족\n",
        "\t\tif self.isEmpty(): return None\n",
        "\t\t# 인덱스 i 결정\n",
        "\t\tif len(args) != 0:   # pop(k)과 같이 인자가 있으면 i = k 할당\n",
        "\t\t\ti = args[0]\n",
        "\t\tif len(args) == 0 or i == -1: # pop()에 인자가 없거나 pop(-1)이면 i에 맨 끝 인덱스 할당\n",
        "\t\t\ti = self.__numItems - 1\n",
        "\t\t# i번 원소 리턴\n",
        "\t\tif (i >= 0 and i <= self.__numItems - 1):\n",
        "\t\t\treturn self.getNode(i).item\n",
        "\t\telse:\n",
        "\t\t\treturn None\n",
        "\n",
        "\tdef index(self, x) -> int:\n",
        "\t\tcnt = 0\n",
        "\t\tfor element in self:\n",
        "\t\t\tif element == x:\n",
        "\t\t\t\treturn cnt\n",
        "\t\t\tcnt += 1\n",
        "\t\treturn -12345\n",
        "\n",
        "\tdef isEmpty(self) -> bool:\n",
        "\t\treturn self.__numItems == 0\n",
        "\n",
        "\tdef size(self) -> int:\n",
        "\t\treturn self.__numItems\n",
        "\n",
        "\tdef clear(self):\n",
        "\t\tself.__head = BidirectNode(\"dummy\", None, None)\n",
        "\t\tself.__head.prev = self.__head\n",
        "\t\tself.__head.next = self.__head\n",
        "\t\tself.__numItems = 0\n",
        "\n",
        "\tdef count(self, x) -> int:\n",
        "\t\tcnt = 0\n",
        "\t\tfor element in self:\n",
        "\t\t\tif element == x:\n",
        "\t\t\t\t\tcnt += 1\n",
        "\t\treturn cnt\n",
        "\n",
        "\tdef extend(self, a): # a는 순회 가능한 모든 객체\n",
        "\t\tfor element in a:\n",
        "\t\t\tself.append(element)\n",
        "\n",
        "\tdef copy(self) -> 'CircularDoublyLinkedList':\n",
        "\t\ta = CircularDoublyLinkedList()\n",
        "\t\tfor element in self:\n",
        "\t\t\ta.append(element)\n",
        "\t\treturn a\n",
        "\n",
        "\tdef reverse(self) -> None:\n",
        "\t\tprev = self.__head; curr = prev.next; next = curr.next\n",
        "\t\tself.__head.next = prev.prev; self.__head.prev = curr\n",
        "\t\tfor i in range(self.__numItems):\n",
        "\t\t\tcurr.next = prev; curr.prev = next\n",
        "\t\t\tprev = curr; curr = next; next = next.next\n",
        "\n",
        "\tdef sort(self) -> None:\n",
        "\t\ta = []\n",
        "\t\tfor element in self:\n",
        "\t\t\ta.append(element)\n",
        "\t\ta.sort()\n",
        "\t\tself.clear()\n",
        "\t\tfor element in a:\n",
        "\t\t\tself.append(element)\n",
        "\n",
        "\tdef __findNode(self, x) -> BidirectNode:\n",
        "\t\tcurr = self.__head.next  # 0번 노드\n",
        "\t\twhile curr != self.__head:\n",
        "\n",
        "\t\t\tif curr.item == x:\n",
        "\t\t\t\treturn curr\n",
        "\t\t\telse:\n",
        "\t\t\t\tcurr = curr.next\n",
        "\t\treturn None\n",
        "\n",
        "\tdef getNode(self, i:int) -> BidirectNode:\n",
        "\t\tcurr = self.__head  # 더미 헤드, index: -1\n",
        "\t\tfor index in range(i + 1):\n",
        "\t\t\tcurr = curr.next\n",
        "\t\treturn curr\n",
        "\n",
        "\tdef printList(self) -> None:\n",
        "\t\tfor element in self:\n",
        "\t\t\tprint(element, end = ' ')\n",
        "\t\tprint()\n",
        "\n",
        "\tdef __iter__(self):  # generating iterator and return\n",
        "\t\treturn CircularDoublyLinkedListIterator(self)\n",
        "\n",
        "class CircularDoublyLinkedListIterator:\n",
        "\tdef __init__(self, alist):\n",
        "\t\tself.__head = alist.getNode(-1)  \t\t# 더미 헤드\n",
        "\t\tself.iterPosition = self.__head.next  \t# 0번 노드\n",
        "\tdef __next__(self):\n",
        "\t\tif self.iterPosition == self.__head: \t# 순환 끝\n",
        "\t\t\traise StopIteration\n",
        "\t\telse: # 현재 원소를 리턴하면서 다음 원소로 이동\n",
        "\t\t\titem = self.iterPosition.item\n",
        "\t\t\tself.iterPosition = self.iterPosition.next\n",
        "\t\t\treturn item\n",
        "\n",
        "#from circularDoublyLinkedList import CircularDoublyLinkedList\n",
        "import pandas as pd\n",
        "\n",
        "df = pd.read_csv('/content/drive/MyDrive/2025-1/자료구조/birthday.csv')\n",
        "BIRTH_COL = '생년월일8자리(예.20040101)'\n",
        "df = df.dropna(subset=[BIRTH_COL])\n",
        "df[BIRTH_COL] = df[BIRTH_COL].astype(int)\n",
        "\n",
        "# 2. CircularDoublyLinkedList 생성 및 데이터 삽입\n",
        "linked_list = CircularDoublyLinkedList()\n",
        "\n",
        "for _, row in df.iterrows():\n",
        "    # 이름, 생년월일만 저장\n",
        "    linked_list.append((row['이름'], row[BIRTH_COL]))\n",
        "\n",
        "# 3. 같은 조 친구 목록\n",
        "group_members = {\"김지우\", \"윤여빈\", \"강윤서\", \"김나영\", \"김명신\", \"신수민\", \"이예린\", \"이희서\", \"이지후\"}\n",
        "\n",
        "# 4. 조건에 맞는 학생만 출력\n",
        "for name, birth in linked_list:\n",
        "    if name in group_members:\n",
        "        print(f\"{name}: {birth}\")\n"
      ],
      "metadata": {
        "colab": {
          "base_uri": "https://localhost:8080/"
        },
        "id": "uS-BGV0cOWwO",
        "outputId": "901d1c8a-35bd-4720-93cc-2b7bc9116e93"
      },
      "execution_count": null,
      "outputs": [
        {
          "output_type": "stream",
          "name": "stdout",
          "text": [
            "강윤서: 20041108\n",
            "김나영: 20051005\n",
            "김명신: 20051002\n",
            "김지우: 20040722\n",
            "신수민: 20051230\n",
            "윤여빈: 20030206\n",
            "이예린: 20040316\n",
            "이지후: 20030513\n",
            "이희서: 20040415\n"
          ]
        }
      ]
    },
    {
      "cell_type": "markdown",
      "source": [
        "#5번문제"
      ],
      "metadata": {
        "id": "7vcacWZYSHwH"
      }
    },
    {
      "cell_type": "markdown",
      "source": [
        "##8-1번문제\n",
        "최대 힙은 부모 노드가 자식 노드보다 크거나 같은 완전 이진 트리이므로, 가장 큰 값은 항상 루트 노드인 A[0]에 위치한다. 따라서 어떤 경우에도 더 깊은 곳에 있는 원소가 루트보다 큰 값을 가질 수 없다."
      ],
      "metadata": {
        "id": "XEEDQQElSRee"
      }
    },
    {
      "cell_type": "markdown",
      "source": [
        "##8-2번문제\n",
        "힙의 구조는 값이 아니라 형태(완전 이진 트리)에 의해 결정되며, 힙의 마지막 원소인 A[n-1]는 단순히 배열의 마지막 자리에 위치한 원소이다. 따라서 이 값은 힙에서 가장 작은 값을 가지리라는 보장은 없다."
      ],
      "metadata": {
        "id": "qwEKsH3WSZFd"
      }
    },
    {
      "cell_type": "markdown",
      "source": [
        "##8-3번문제\n",
        "buildHeap()은 내부 노드만 대상으로 max_heapify를 수행하므로, 리프 노드는 건너뛴다. 완전 이진 트리에서 리프 노드의 개수는 n/2개이므로, 전체 n개 중 나머지 n-2개만 max_heapify를 수행한다."
      ],
      "metadata": {
        "id": "PdkNwCDSSZWy"
      }
    },
    {
      "cell_type": "markdown",
      "source": [
        "##8-4번문제\n",
        "스며내리기(percolate down)의 최악의 경우는 루트에서 리프까지 계속 내려가는 경우로, 시간 복잡도는 Θ(log n)이다. 반대로 최선의 경우는 자식 노드들과 비교만 하고 교환 없이 한 번에 종료되는 상황으로, 시간은 Θ(1)이다."
      ],
      "metadata": {
        "id": "_BjZ6QIFSZks"
      }
    },
    {
      "cell_type": "markdown",
      "source": [
        "##8-5번문제\n",
        "힙에서 일반적으로 수행하는 삭제 연산은 루트 노드(최댓값)를 삭제하는 것이지만, 테스트 목적 등으로 힙의 마지막 원소를 삭제하는 것도 가능하다.\n",
        "예를 들어, 힙이 [50, 30, 40, 10, 20]이라면, 마지막 원소 20을 삭제하는 것은 단순히 배열에서 마지막 항목을 제거하는 것으로, 힙 성질을 해치지 않기 때문에 추가적인 연산이 필요 없다.\n",
        "따라서 이러한 삭제는 매우 간단하며, 시간 복잡도도 Θ(1)이다."
      ],
      "metadata": {
        "id": "f4wSBtgvSZvC"
      }
    },
    {
      "cell_type": "markdown",
      "source": [
        "##8-6번문제\n",
        "buildHeap() 알고리즘은 일반적으로 리프에 가까운 아래쪽 노드부터 위로 max_heapify를 수행하여 효율적으로 힙을 구성한다.\n",
        "이 방식은 자식 노드가 먼저 힙 조건을 만족하므로 부모는 비교만 하면 되어 불필요한 재정렬이 줄어든다.\n",
        "반면 위에서 아래로 수행하면 정리되지 않은 자식과 비교해야 해 중복 연산이 많아 비효율적이며, Θ(n log n)의 시간이 걸린다.\n",
        "따라서 아래에서 위로 수행하는 방식이 Θ(n)으로 더 효율적이다."
      ],
      "metadata": {
        "id": "MqGNpp8YSZ5F"
      }
    },
    {
      "cell_type": "markdown",
      "source": [
        "##8-7번문제\n",
        "최대 힙에 새로운 원소를 삽입하면, 일반적으로 배열의 마지막에 추가된 후 부모와 비교하며 위로 올라가게 하는 스며올리기(percolate up)작업을 거치게 된다. 최악의 경우 트리의 높이만큼 이동하므로 시간 복잡도는 O(log n)이다."
      ],
      "metadata": {
        "id": "MsAkrdheSaB9"
      }
    },
    {
      "cell_type": "markdown",
      "source": [
        "#6번문제"
      ],
      "metadata": {
        "id": "aOCbiW8wSl5a"
      }
    },
    {
      "cell_type": "code",
      "source": [
        "#LeetCode 703.Kth Largest Element in Stream\n",
        "class KthLargest:\n",
        "\n",
        "    def __init__(self, k: int, nums: list[int]):\n",
        "        self.k = k\n",
        "        self.min_heap = nums\n",
        "        heapq.heapify(self.min_heap)\n",
        "\n",
        "        # k개만 남기고 나머지는 버림\n",
        "        while len(self.min_heap) > k:\n",
        "            heapq.heappop(self.min_heap)\n",
        "\n",
        "    def add(self, val: int) -> int:\n",
        "        heapq.heappush(self.min_heap, val)\n",
        "        if len(self.min_heap) > self.k:\n",
        "            heapq.heappop(self.min_heap)\n",
        "        return self.min_heap[0]"
      ],
      "metadata": {
        "id": "EMChuy36SKgf"
      },
      "execution_count": null,
      "outputs": []
    }
  ]
}